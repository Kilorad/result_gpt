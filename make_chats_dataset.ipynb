{
 "cells": [
  {
   "cell_type": "code",
   "execution_count": null,
   "id": "958b5770",
   "metadata": {},
   "outputs": [],
   "source": [
    "import json\n",
    "import pandas as pd\n",
    "import codecs"
   ]
  },
  {
   "cell_type": "code",
   "execution_count": null,
   "id": "6f3b7d0e",
   "metadata": {},
   "outputs": [],
   "source": [
    "path = './data/corpus_dialogues/topical_chat.csv'\n",
    "df = pd.read_csv(path)\n",
    "df['message'] += '\\t'\n",
    "df"
   ]
  },
  {
   "cell_type": "code",
   "execution_count": null,
   "id": "dc7977ac",
   "metadata": {},
   "outputs": [],
   "source": [
    "df_g = df[['conversation_id', 'message']].groupby('conversation_id').sum()\n",
    "df_g = df_g.dropna()\n",
    "df_g"
   ]
  },
  {
   "cell_type": "code",
   "execution_count": null,
   "id": "1f901998",
   "metadata": {},
   "outputs": [],
   "source": [
    "text = '\\n'.join(list(df_g['message'].values))"
   ]
  },
  {
   "cell_type": "code",
   "execution_count": null,
   "id": "dc1c876a",
   "metadata": {},
   "outputs": [],
   "source": [
    "with codecs.open('data/chat_data.txt', 'w', 'utf8') as f:\n",
    "    f.write(text)"
   ]
  },
  {
   "cell_type": "code",
   "execution_count": null,
   "id": "0b245163",
   "metadata": {},
   "outputs": [],
   "source": []
  }
 ],
 "metadata": {
  "kernelspec": {
   "display_name": "Python 3 (ipykernel)",
   "language": "python",
   "name": "python3"
  },
  "language_info": {
   "codemirror_mode": {
    "name": "ipython",
    "version": 3
   },
   "file_extension": ".py",
   "mimetype": "text/x-python",
   "name": "python",
   "nbconvert_exporter": "python",
   "pygments_lexer": "ipython3",
   "version": "3.9.7"
  }
 },
 "nbformat": 4,
 "nbformat_minor": 5
}
