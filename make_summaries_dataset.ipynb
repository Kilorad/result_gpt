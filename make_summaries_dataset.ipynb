{
 "cells": [
  {
   "cell_type": "code",
   "execution_count": null,
   "id": "958b5770",
   "metadata": {},
   "outputs": [],
   "source": [
    "import json\n",
    "import pandas as pd\n",
    "import codecs"
   ]
  },
  {
   "cell_type": "code",
   "execution_count": null,
   "id": "ca0fa297",
   "metadata": {},
   "outputs": [],
   "source": [
    "path = './data/corpus_summarization/train.json'\n",
    "df = pd.read_json(path)\n",
    "df"
   ]
  },
  {
   "cell_type": "code",
   "execution_count": null,
   "id": "dfd4ff82",
   "metadata": {},
   "outputs": [],
   "source": [
    "df['text'] = '\\n<IN>' + df['dialogue'].str.replace('\\n', '\\t').str.replace('\\r\\n', '\\t') + ' summarize:<OUT>' + df['summary'] + '<END>'"
   ]
  },
  {
   "cell_type": "code",
   "execution_count": null,
   "id": "a6eb2f6c",
   "metadata": {},
   "outputs": [],
   "source": [
    "text = ''.join(df['text'].values)"
   ]
  },
  {
   "cell_type": "code",
   "execution_count": null,
   "id": "53496d64",
   "metadata": {},
   "outputs": [],
   "source": [
    "with codecs.open('data/summary_data.txt', 'w', 'utf8') as f:\n",
    "    f.write(text)"
   ]
  }
 ],
 "metadata": {
  "kernelspec": {
   "display_name": "Python 3 (ipykernel)",
   "language": "python",
   "name": "python3"
  },
  "language_info": {
   "codemirror_mode": {
    "name": "ipython",
    "version": 3
   },
   "file_extension": ".py",
   "mimetype": "text/x-python",
   "name": "python",
   "nbconvert_exporter": "python",
   "pygments_lexer": "ipython3",
   "version": "3.9.7"
  }
 },
 "nbformat": 4,
 "nbformat_minor": 5
}
